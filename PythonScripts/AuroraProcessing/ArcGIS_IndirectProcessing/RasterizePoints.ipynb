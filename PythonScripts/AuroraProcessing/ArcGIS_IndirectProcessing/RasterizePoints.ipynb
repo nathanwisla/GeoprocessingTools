{
 "cells": [
  {
   "cell_type": "markdown",
   "metadata": {},
   "source": [
    "# RasterizePoints\n",
    "Author: Nathan Wisla\n",
    "\n",
    "Date: April 12, 2021\n",
    "\n",
    "Purpose: to take points from a PostGIS database and to interpolate them as rasters\n",
    "\n",
    "\n",
    "## Initializing the Workspace"
   ]
  },
  {
   "cell_type": "code",
   "execution_count": 17,
   "metadata": {},
   "outputs": [],
   "source": [
    "import datetime\n",
    "import arcpy\n",
    "\n",
    "def APinitialize():\n",
    "    ws = r'S:\\GIS\\ArcGIS\\Private_Projects\\Aurora\\scratch.gdb'\n",
    "    sr = arcpy.SpatialReference(4326)\n",
    "    arcpy.env.workspace = ws\n",
    "    arcpy.env.overwriteOutput = True\n",
    "    return ws, sr\n",
    "\n",
    "ws, sr = APinitialize()\n",
    "\n",
    "ws2 = 'S:\\\\GIS\\\\ArcGIS\\\\Private_Projects\\\\Aurora\\\\aurora.sde'\n",
    "auroraFC = 'aurora.public.aurorastrength'\n",
    "aurora = arcpy.Describe(ws2 + '\\\\' + auroraFC)\n",
    "\n"
   ]
  },
  {
   "cell_type": "markdown",
   "metadata": {},
   "source": [
    "## Creating 48 Spline Rasters based on database data"
   ]
  },
  {
   "cell_type": "code",
   "execution_count": null,
   "metadata": {},
   "outputs": [],
   "source": [
    "for i in range(48):\n",
    "\n",
    "            \n",
    "        \n",
    "    arcpy.management.SelectLayerByAttribute(aurora.name,\\\n",
    "                                      'NEW_SELECTION',\\\n",
    "                                      f\"id = {i + 1}\")\n",
    "\n",
    "    out_raster = arcpy.sa.Spline(aurora.name, \"strength\", 0.1, \"REGULARIZED\", 0.1, 12)\n",
    "    rasterList.append(out_raster)\n",
    "    out_raster.save(ws + '\\\\' + f'spline{i+1}')"
   ]
  },
  {
   "cell_type": "code",
   "execution_count": 21,
   "metadata": {},
   "outputs": [],
   "source": [
    "mosaic = 'RasterAnimated'\n",
    "mosaic = arcpy.management.CreateMosaicDataset(ws,mosaic, sr, None, '8_BIT_UNSIGNED', \"NONE\", None)\n",
    "mosaic = arcpy.Describe(mosaic)\n",
    "arcpy.management.AddRastersToMosaicDataset(mosaic.name, \"Raster Dataset\", arcpy.ListRasters(), \"UPDATE_CELL_SIZES\", \"UPDATE_BOUNDARY\", \"NO_OVERVIEWS\", None, 0, 1500, None, '', \"SUBFOLDERS\", \"ALLOW_DUPLICATES\", \"NO_PYRAMIDS\", \"NO_STATISTICS\", \"NO_THUMBNAILS\", '', \"NO_FORCE_SPATIAL_REFERENCE\", \"NO_STATISTICS\", None, \"NO_PIXEL_CACHE\", r\"C:\\Users\\Nathan\\AppData\\Local\\ESRI\\rasterproxies\\raw\")\n",
    "\n",
    "mosaicTable = mosaic.name + '\\\\Footprint'\n",
    "\n",
    "\n",
    "\n",
    "            "
   ]
  },
  {
   "cell_type": "markdown",
   "metadata": {},
   "source": [
    "After finalizing the raster mosaic, animate the raster by manually adding the time field by adding a join from the point data attributes based on: \n",
    "\n",
    "mosaic.oid = pointdata.id (one-to-one)\n",
    "\n",
    "From there, calculate a new datetime field."
   ]
  },
  {
   "cell_type": "code",
   "execution_count": 22,
   "metadata": {},
   "outputs": [
    {
     "data": {
      "text/html": [
       "<h2>Output</h2>a Layer object<h2>Messages</h2>Start Time: Monday, April 19, 2021 9:35:30 AM<br/>Succeeded at Monday, April 19, 2021 9:35:31 AM (Elapsed Time: 0.12 seconds)<br/><style>.rendered_html td, .rendered_html th {text-align: left;}.rendered_html tbody {border: 1px solid black;}</style>"
      ],
      "text/plain": [
       "<Result 'RasterAnimated\\\\Footprint'>"
      ]
     },
     "execution_count": 22,
     "metadata": {},
     "output_type": "execute_result"
    }
   ],
   "source": [
    "arcpy.management.AddField(mosaicTable, 'forecast', 'DATE')\n",
    "arcpy.management.AddJoin(mosaicTable, 'OBJECTID', auroraFC, \"id\", \"KEEP_ALL\")\n",
    "arcpy.management.CalculateField(mosaicTable, 'forecast', '!aurora.public.%aurorastrength.forecast!', 'PYTHON3', '', 'TEXT')\n",
    "arcpy.management.RemoveJoin(mosaicTable, \"aurora.public.%aurorastrength\")"
   ]
  },
  {
   "cell_type": "code",
   "execution_count": null,
   "metadata": {},
   "outputs": [],
   "source": []
  }
 ],
 "metadata": {
  "kernelspec": {
   "display_name": "ArcGISPro",
   "language": "Python",
   "name": "python3"
  },
  "language_info": {
   "file_extension": ".py",
   "name": "python",
   "version": "3"
  },
  "latex_envs": {
   "LaTeX_envs_menu_present": true,
   "autoclose": false,
   "autocomplete": true,
   "bibliofile": "biblio.bib",
   "cite_by": "apalike",
   "current_citInitial": 1,
   "eqLabelWithNumbers": true,
   "eqNumInitial": 1,
   "hotkeys": {
    "equation": "Ctrl-E",
    "itemize": "Ctrl-I"
   },
   "labels_anchors": false,
   "latex_user_defs": false,
   "report_style_numbering": false,
   "user_envs_cfg": false
  },
  "toc": {
   "base_numbering": 1,
   "nav_menu": {},
   "number_sections": true,
   "sideBar": true,
   "skip_h1_title": false,
   "title_cell": "Table of Contents",
   "title_sidebar": "Contents",
   "toc_cell": false,
   "toc_position": {},
   "toc_section_display": true,
   "toc_window_display": false
  }
 },
 "nbformat": 4,
 "nbformat_minor": 2
}
